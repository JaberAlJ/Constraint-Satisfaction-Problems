{
 "cells": [
  {
   "cell_type": "markdown",
   "metadata": {},
   "source": [
    "> [*JaberAlJ*](https://github.com/JaberAlJ)"
   ]
  },
  {
   "cell_type": "markdown",
   "metadata": {},
   "source": [
    "# Applying Constraints Satisfaction Problems (CSPs)\n",
    "\n",
    "## Contents  <a class=\"anchor\" id=\"top\"></a>\n",
    "* [1 Objectives](#objectives)\n",
    "* [2 Overview](#overview)\n",
    "* [3 Solving the Cryptarithmetic Problem](#crypta)\n",
    "* [4 Scheduling Fireworks](#fireworks)\n",
    "\n",
    "## 1 Objectives <a class=\"anchor\" id=\"objectives\"></a>\n",
    "\n",
    "The objectives of this assignment are:\n",
    "\n",
    "* To understand and apply Constraint Satisfaction Problems (CSPs) to real-world scenarios.\n",
    "* To use the provided CSP code to solve two distinct problems.\n",
    "* To practice defining domains, constraints, variables, and neighbors in CSPs.\n",
    "* To explore different CSP-solving techniques, including backtracking search and inference methods.\n",
    "* To find multiple solutions by experimenting with variable domains.\n",
    "\n",
    "### 1.1 Required Submission and Marking Scheme\n",
    "\n",
    "This assignment has a total of $10$ marks and worth $5\\%$ of the course total. You should complete the following activities, each is worth $1$ mark:\n",
    "\n",
    "* Activities related to the [cryptarithmetic puzzle](#crypta)\n",
    "    * [Activity 3.1](#act3-1): Initialize the variables and domains of the problem.\n",
    "    * [Activity 3.2](#act3-2): Create the the constraints list.\n",
    "    * [Activity 3.3](#act3-3): Create the CSP problem.\n",
    "    * [Activity 3.4](#act3-4): Run the solver.\n",
    "    * [Activity 3.5](#act3-5): Find at least two solutions by varying the domains of the variables.\n",
    "* Activities related to [scheduling fireworks](#fireworks) in Oman\n",
    "    * [Activity 4.1](#act4-1): Initialize the variables list.\n",
    "    * [Activity 4.2](#act4-2): Create the domains dictionary.\n",
    "    * [Activity 4.3](#act4-3): Create the neighbors dictionary.\n",
    "    * [Activity 4.4](#act4-4): Create a CSP problem.\n",
    "    * [Activity 4.5](#act4-5): Find a solution by running the plain vanilla backtracking search algorithm. "
   ]
  },
  {
   "cell_type": "markdown",
   "metadata": {},
   "source": [
    "## 2 Overview <a class=\"anchor\" id=\"overview\"></a>\n",
    "This assignment comprises two parts: solving a Cryptarithmetic puzzle and creating a fireworks schedule to commemorate the 53rd anniversary of the national day of Oman. You will utilize CSPs to solve complex problems in both parts by following activities. To solve them, you will use a CSP library based on the code of the [Artificial Intelligence: A Modern Approach](https://github.com/aimacode/aima-python) book repository.\n",
    "\n",
    "Before you begin, you must ensure you have installed the [Sorted Containers](https://grantjenks.com/docs/sortedcontainers/) and [Numpy](https://numpy.org/) libraries.  \n",
    "\n",
    "If you are using a **conda** package manager, uncomment, then run the following code:"
   ]
  },
  {
   "cell_type": "code",
   "execution_count": null,
   "metadata": {},
   "outputs": [],
   "source": [
    "# Install a conda package in the current Jupyter kernel\n",
    "# import sys\n",
    "# !conda install --yes --prefix {sys.prefix} -c conda-forge sortedcontainers\n",
    "# !conda install --yes --prefix {sys.prefix} -c conda-forge numpy"
   ]
  },
  {
   "cell_type": "markdown",
   "metadata": {},
   "source": [
    "Alternatively, if you are using a **pip** package manager, uncomment, then run the following code:"
   ]
  },
  {
   "cell_type": "code",
   "execution_count": null,
   "metadata": {},
   "outputs": [],
   "source": [
    "# Install a pip package in the current Jupyter kernel\n",
    "# import sys\n",
    "# !{sys.executable} -m pip install --upgrade pip\n",
    "# !{sys.executable} -m pip install sortedcontainers\n",
    "# !{sys.executable} -m pip install numpy"
   ]
  },
  {
   "cell_type": "markdown",
   "metadata": {},
   "source": [
    "## 3. Solving the Cryptarithmetic Problem <a class=\"anchor\" id=\"crypta\"></a>\n",
    "A cryptarithmetic puzzle is a type of puzzle where a mathematical equation is presented, but the digits in the equation are replaced by letters or symbols. The task is to find the value of each letter or symbol such that the equation is true. The challenge in the puzzle is to identify the correct digit-to-letter or digit-to-symbol mapping that solves the equation.\n",
    "\n",
    "In this part, you will tackle a Cryptarithmetic puzzle, where you need to assign digits to letters to the arithmetic expression `RIGHT + LEFT = CENTER` to make it valid.\n",
    "\n",
    "First, we import all the necessary functions for solving this problem. Your task is to complete the activities that follow."
   ]
  },
  {
   "cell_type": "code",
   "execution_count": 23,
   "metadata": {},
   "outputs": [],
   "source": [
    "from aima import Cryptarithmetic\n",
    "from aima import NaryCSP\n",
    "from aima import ac_solver\n",
    "from aima import Constraint\n",
    "from aima import all_diff_constraint\n",
    "from aima import eq\n",
    "from aima import Stopwatch"
   ]
  },
  {
   "cell_type": "markdown",
   "metadata": {},
   "source": [
    "### Activity 3.1 <a class=\"anchor\" id=\"act3-1\"></a>\n",
    "Complete the following code to initialize the variables list and populate the domains dictionary. Assume all the variables will have the same domain."
   ]
  },
  {
   "cell_type": "code",
   "execution_count": 24,
   "metadata": {},
   "outputs": [],
   "source": [
    "### START CODE HERE (Activity 3.1) ###\n",
    "\n",
    "# variables list\n",
    "variables = ['T', 'R', 'H', 'F', 'E', 'G', 'I', 'L', 'N', 'C', 'C1', 'C2', 'C3', 'C4', 'C5'] \n",
    "\n",
    "# domains dictionary\n",
    "domains = {}\n",
    "for var in variables:\n",
    "    domains[var] = set(range(0,10))\n",
    "\n",
    "### END CODE HERE ###"
   ]
  },
  {
   "cell_type": "markdown",
   "metadata": {},
   "source": [
    "### Activity 3.2 <a class=\"anchor\" id=\"act3-2\"></a>\n",
    "\n",
    "After initializing the domains, it is time to create our constraints. Use the `Constraint` class, the `eq` constraint and the `all_diff_constraint` to populate a constraints list. "
   ]
  },
  {
   "cell_type": "code",
   "execution_count": 25,
   "metadata": {},
   "outputs": [],
   "source": [
    "### START CODE HERE (Activity 3.2) ###\n",
    "\n",
    "# constraints list\n",
    "constraints = []\n",
    "constraints.append(Constraint(('T', 'R', 'H', 'F', 'E', 'G', 'I', 'L', 'N', 'C'), all_diff_constraint))\n",
    "constraints.append(Constraint(('T', 'R', 'C1'), lambda t, r, c1: t + t ==  r + 10 * c1))\n",
    "constraints.append(Constraint(('C1', 'H', 'F', 'E', 'C2'), lambda c1, h, f, e, c2: c1 + h + f ==  e + 10 * c2))\n",
    "constraints.append(Constraint(('C2', 'G', 'E', 'T', 'C3'), lambda c2, g, e, t, c3: c2 + g + e ==  t + 10 * c3))\n",
    "constraints.append(Constraint(('C3', 'I', 'L', 'N', 'C4'), lambda c3, i, l, n, c4: c3 + i + l ==  n + 10 * c4))\n",
    "constraints.append(Constraint(('C4', 'R', 'E', 'C5'), lambda c4, r, e, c5: c4 + r ==  e + 10 * c5))\n",
    "constraints.append(Constraint(('C5', 'C'), eq))\n",
    "\n",
    "# the following constraints I use it just to find other assignments\n",
    "# constraints.append(Constraint(('T'), lambda t: t !=  1))\n",
    "# constraints.append(Constraint(('T'), lambda t: t !=  7))\n",
    "# constraints.append(Constraint(('R'), lambda r: r !=  2))\n",
    "# constraints.append(Constraint(('R'), lambda r: r !=  4))\n",
    "# constraints.append(Constraint(('F'), lambda f: f !=  6))\n",
    "# constraints.append(Constraint(('F'), lambda f: f !=  8))\n",
    "# constraints.append(Constraint(('F'), lambda f: f !=  9))\n",
    "\n",
    "### END CODE HERE ###"
   ]
  },
  {
   "cell_type": "markdown",
   "metadata": {},
   "source": [
    "### Activity 3.3 <a class=\"anchor\" id=\"act3-3\"></a>\n",
    "\n",
    "Now we have the three elements of our CSP, we are ready to create the CSP problem. To do so, initialize an object or type `Cryptarithmetic` by passing the necessary arguments to the constructor. "
   ]
  },
  {
   "cell_type": "code",
   "execution_count": 26,
   "metadata": {},
   "outputs": [],
   "source": [
    "### START CODE HERE (Activity 3.3) ###\n",
    "\n",
    "# create the csp problem\n",
    "right_left_center = Cryptarithmetic(domains, constraints)\n",
    "\n",
    "### END CODE HERE ###"
   ]
  },
  {
   "cell_type": "markdown",
   "metadata": {},
   "source": [
    "### Activity 3.4 <a class=\"anchor\" id=\"act3-4\"></a>\n",
    "\n",
    "Ok! We are ready to find a solution to the expression RIGHT + LEFT = CENTER. Finding a solution entail using a CSP solver. Here we will using the solver by the `ac_solver` function. Note, `ac_solver` returns `True` if an soultion is found, and `False` otherwise.\n",
    "\n",
    "**Warning**: After you click run, go an grab a cup of coffee  or tea, and eat a slice of cake 😉. This will take 30-45 minutes to spit a solution.  \n"
   ]
  },
  {
   "cell_type": "code",
   "execution_count": 45,
   "metadata": {},
   "outputs": [
    {
     "name": "stdout",
     "output_type": "stream",
     "text": [
      "Solving RIGHT + LEFT = CENTER\n",
      "Found a solution in 1266.61 seconds\n",
      "{'T': 1, 'R': 2, 'H': 9, 'F': 4, 'E': 3, 'G': 7, 'I': 8, 'L': 6, 'N': 5, 'C': 0, 'C1': 0, 'C2': 1, 'C3': 1, 'C4': 1, 'C5': 0}\n"
     ]
    }
   ],
   "source": [
    "### START CODE HERE (Activity 3.4) ###\n",
    "\n",
    "# find a solution\n",
    "print(\"Solving RIGHT + LEFT = CENTER\")\n",
    "\n",
    "timer = Stopwatch() # start the clock\n",
    "\n",
    "assignment = ac_solver(csp=right_left_center)\n",
    "\n",
    "if not assignment:\n",
    "    print(\"No solution found to the problem\")\n",
    "else:\n",
    "    print(f\"Found a solution in {timer.elapsedTime():.2f} seconds\")\n",
    "    print(assignment)\n",
    "\n",
    "\n",
    "### END CODE HERE ###"
   ]
  },
  {
   "cell_type": "markdown",
   "metadata": {},
   "source": [
    "### Activity 3.5 <a class=\"anchor\" id=\"act3-5\"></a>\n",
    "\n",
    "Congratulations 🎉. You got one possible solution for the given expression. Now, try to find another solution by varying the domains of the variables and run the above code again. Write your solutions below. Note, the variables `assignment1` and `assignment2` should be initialized as dictionaries. Also, make sure not to include any carry variables. \n"
   ]
  },
  {
   "cell_type": "code",
   "execution_count": 27,
   "metadata": {},
   "outputs": [],
   "source": [
    "### START CODE HERE (Activity 3.5) ###\n",
    "\n",
    "# First potential solution (Don't include the carry variables)\n",
    "assignment1 = {'T': 1, 'R': 2, 'H': 4, 'F': 9, 'E': 3, 'G': 7, 'I': 6, 'L': 8, 'N': 5, 'C': 0}\n",
    "\n",
    "# Second potential solution (Don't include the carry variables)\n",
    "assignment2 = {'T': 1, 'R': 2, 'H': 9, 'F': 4, 'E': 3, 'G': 7, 'I': 8, 'L': 6, 'N': 5, 'C': 0}\n",
    "\n",
    "# Third potential solution (Don't include the carry variables)\n",
    "assignment3 = {'T': 7, 'R': 4, 'H': 6, 'F': 8, 'E': 5, 'G': 1, 'I': 3, 'L': 9, 'N': 2, 'C': 0}\n",
    "\n",
    "# Fourth potential solution (Don't include the carry variables)\n",
    "assignment4 = {'T': 7, 'R': 4, 'H': 8, 'F': 6, 'E': 5, 'G': 1, 'I': 3, 'L': 9, 'N': 2, 'C': 0}\n",
    "\n",
    "### END CODE HERE ###"
   ]
  },
  {
   "cell_type": "markdown",
   "metadata": {},
   "source": [
    "### Activity 3.6 (Optional) <a class=\"anchor\" id=\"act3-6\"></a>\n",
    "\n",
    "Checking the solution to a Cryptarithmetic is not a as difficult finding a correct solution. Below is a function that takes as input three strings `s1`, `s2, and `s3 along with a solution to a the expression `s1 + s2 = s3`. If the assignment is valid, it returns True. Else, it returns False. Run the code to verify the two solutions you found. "
   ]
  },
  {
   "cell_type": "code",
   "execution_count": 28,
   "metadata": {},
   "outputs": [
    {
     "name": "stdout",
     "output_type": "stream",
     "text": [
      "Is the assignment1 correct? True\n",
      "Is the assignment2 correct? True\n",
      "Is the assignment3 correct? True\n",
      "Is the assignment4 correct? True\n"
     ]
    }
   ],
   "source": [
    "def verify_cryptarithmetic(s1, s2, s3, assignment):\n",
    "    \"\"\"\n",
    "    Verify the correctness of a Cryptarithmetic puzzle.\n",
    "\n",
    "    Args:\n",
    "    - s1 (str): The first string in the addition equation.\n",
    "    - s2 (str): The second string in the addition equation.\n",
    "    - s3 (str): The result string in the addition equation.\n",
    "    - assignment (dict): A dictionary mapping characters to their assigned values.\n",
    "\n",
    "    Returns:\n",
    "    bool: True if the assignment satisfies the Cryptarithmetic puzzle, False otherwise.\n",
    "    \"\"\"\n",
    "    # Reverse the strings to process from right to left\n",
    "    s1, s2, s3 = s1[::-1], s2[::-1], s3[::-1]\n",
    "    \n",
    "    # Initialize carry as 0\n",
    "    carry = 0\n",
    "    \n",
    "    for i in range(max(len(s1), len(s2), len(s3))):\n",
    "        # Get the current characters if available\n",
    "        char1 = s1[i] if i < len(s1) else '0'\n",
    "        char2 = s2[i] if i < len(s2) else '0'\n",
    "        char3 = s3[i] if i < len(s3) else '0'\n",
    "        \n",
    "        # Convert characters to numbers based on the assignment\n",
    "        num1 = assignment.get(char1, 0)\n",
    "        num2 = assignment.get(char2, 0)\n",
    "        num3 = assignment.get(char3, 0)\n",
    "        \n",
    "        # Calculate the sum and carry for this position\n",
    "        total = num1 + num2 + carry\n",
    "        carry = total // 10\n",
    "        \n",
    "        # Check if the calculated sum matches the assigned value\n",
    "        if num3 != total % 10:\n",
    "            return False\n",
    "    \n",
    "    # If there is a carry left, it should be zero for a valid solution\n",
    "    return carry == 0\n",
    "\n",
    "# Our input strings\n",
    "s1 = \"RIGHT\"\n",
    "s2 = \"LEFT\"\n",
    "s3 = \"CENTER\"\n",
    "\n",
    "# verify assignment1\n",
    "result = verify_cryptarithmetic(s1, s2, s3, assignment1)\n",
    "print(\"Is the assignment1 correct?\", result)\n",
    "\n",
    "# verify assignment2\n",
    "result = verify_cryptarithmetic(s1, s2, s3, assignment2)\n",
    "print(\"Is the assignment2 correct?\", result)\n",
    "\n",
    "# verify assignment3\n",
    "result = verify_cryptarithmetic(s1, s2, s3, assignment3)\n",
    "print(\"Is the assignment3 correct?\", result)\n",
    "\n",
    "# verify assignment4\n",
    "result = verify_cryptarithmetic(s1, s2, s3, assignment4)\n",
    "print(\"Is the assignment4 correct?\", result)"
   ]
  },
  {
   "cell_type": "markdown",
   "metadata": {},
   "source": [
    "## 4. Scheduling Fireworks <a class=\"anchor\" id=\"fireworks\"></a>\n",
    "Oman commemorates its national day on November 18th. In honor of the $53^{rd}$ anniversary of this occasion, the Supreme Committee for National Day Celebrations has decided to organize fireworks displays in the capitals of each of Oman's governorates. The fireworks events are scheduled to take place from November 18 to November 22, 2023.\n",
    "\n",
    "The primary objective is to ensure that <u>**no two neighboring governorates host a fireworks display on the same day**</u>. Additionally, specific arrangements have been made for <u>**November 18th, where only Muscat Governorate will showcase its fireworks**</u>, and on the final day, <u>**November 22, 2023, only Dhofar Governorate will present**</u> its spectacle in the city of Salalah.\n",
    "\n",
    "Your task is to formulate a suitable schedule for fireworks displays across Oman during the specified period. To assist you, a GIS specialist has provided a map of Oman's governorates (refer to [Figure 1](#fig:oman)) and a table detailing each governorate, its capital Wilayat, and neighboring governorates (see [Table 1](#tbl:oman)).\n",
    "\n",
    "<figure class=\"image\">\n",
    "  <a class=\"anchor\" id=\"fig:oman\"></a>\n",
    "  <div style=\"text-align:center\">\n",
    "    <img src=\"./res/oman.png\" alt=\"Map of Oman\" width=\"560\"/>\n",
    "    <figcaption>Figure 1: Administrative Divisions of Oman</figcaption>\n",
    "  </div>\n",
    "</figure>"
   ]
  },
  {
   "cell_type": "markdown",
   "metadata": {},
   "source": [
    "<em><a class=\"anchor\" id=\"tbl:oman\"></a>**Table 1:** Oman’s Governorates and their capitals.</em>\n",
    "| Map Nr | Governorate         | Capital Wilayat | Neighbouring Governorates                                                                                   |\n",
    "|--------|---------------------|--------------|-------------------------------------------------------------------------------------------------------------|\n",
    "| 1      | Ad Dakhiliyah       | Nizwa        | Al Batinah North, Al Batinah South, Muscat, Ash Sharqiyah North, Ash Sharqiyah South, Al Wusta, Ad Dhahirah |\n",
    "| 2      | Ad Dhahirah         | Ibri         | Al Buraymi, Ad Dakhiliyah, Al Batinah North, Al Wusta                                                       |\n",
    "| 3      | Al Batinah North    | Sohar        | Musandam, Al Buraymi, Al Batinah South, Ad Dhahirah, Ad Dakhiliyah                                          |\n",
    "| 4      | Al Buraymi          | Al Buraymi   | Musandam, Al Batinah North                                                                                  |\n",
    "| 5      | Al Batinah South    | Rustaq       | Ad Dakhiliyah, Muscat, Al Batinah North                                                                     |\n",
    "| 6      | Ash Sharqiyah North | Ibra         | Ad Dakhiliyah, Ash Sharqiyah South, Muscat                                                                  |\n",
    "| 7      | Ash Sharqiyah South | Sur          | Ad Dakhiliyah, Ash Sharqiyah North, Al Wusta                                                                |\n",
    "| 8      | Muscat              | Muscat       | Al Batinah South, Ad Dakhiliyah, Ash Sharqiyah North                                                        |\n",
    "| 9      | Al Wusta            | Haima        | Ad Dhahirah, Ad Dakhiliyah, Ash Sharqiyah South, Dofar                                                      |\n",
    "| 10     | Dofar               | Salalah      | Al Wusta                                                                                                    |\n",
    "| 11     | Musandam            | Khasab       | Al Buraymi, Al Batinah North                                                                                |"
   ]
  },
  {
   "cell_type": "markdown",
   "metadata": {},
   "source": [
    "***Table 2:*** *National Day Celebrations* \n",
    "| National Day Celebrations | Days |\n",
    "| ------------------------- | ---- |\n",
    "| November 18               | *Sa* |\n",
    "| November 19               | *Su* |\n",
    "| November 20               | *Mo* |\n",
    "| November 21               | *Tu* |\n",
    "| November 22               | *We* |"
   ]
  },
  {
   "cell_type": "markdown",
   "metadata": {},
   "source": [
    "***Table 3:*** *Colors*\n",
    "| No. Color   | Color img                                                            | Color Name   |\n",
    "| ----------- | -------------------------------------------------------------------- | ------------ |\n",
    "| 1           | ![Chalky color!](res\\colors\\Chalky.jpg \"Chalky color\")               | Chalky       |\n",
    "| 2           | ![Deep Cerise color!](res\\colors\\DeepCerise.jpg \"Deep Cerise color\") | Deep Cerise  |\n",
    "| 3           | ![Han Purple color!](res\\colors\\HanPurple.jpg \"Han Purple color\")    | Han Purple   |\n",
    "| 4           | ![Manhattan color!](res\\colors\\Manhattan.jpg \"Manhattan color\")      | Manhattan    |\n",
    "| 5           | ![Portage color!](res\\colors\\Portage.jpg \"Portage color\")            | Portage      |\n",
    "| 6           | ![Riptide color!](res\\colors\\Riptide.jpg \"Riptide color\")            | Riptide      |\n",
    "| 7           | ![Shamrock color!](res\\colors\\Shamrock.jpg \"Shamrock color\")         | Shamrock     |\n",
    "| 8           | ![Summer Sky color!](res\\colors\\SummerSky.jpg \"Summer Sky color\")    | Summer Sky   |\n",
    "| 9           | ![Tumbleweed color!](res\\colors\\Tumbleweed.jpg \"Tumbleweed color\")   | Tumbleweed   |\n",
    "| 10          | ![Turquoise color!](res\\colors\\Turquoise.jpg \"Turquoise color\")      | Turquoise    |\n",
    "| 11          | ![West Side color!](res\\colors\\WestSide.jpg \"West Side color\")       | West Side    |"
   ]
  },
  {
   "cell_type": "markdown",
   "metadata": {},
   "source": [
    "Find a way to model this problem as a map coloring problem and complete the following code cells. As we have done before, we start by importing all the required classes and functions."
   ]
  },
  {
   "cell_type": "code",
   "execution_count": 30,
   "metadata": {},
   "outputs": [],
   "source": [
    "from aima import MapColoring\n",
    "from aima import backtracking_search\n",
    "from aima import forward_checking\n",
    "from aima import mrv # most constrained variable\n",
    "from aima import lcv # least constraining value\n",
    "from aima import Stopwatch"
   ]
  },
  {
   "cell_type": "markdown",
   "metadata": {},
   "source": [
    "### Activity 4.1 <a class=\"anchor\" id=\"act4-1\"></a>\n",
    "\n",
    "Create a list of variables representing the fireworks displays. "
   ]
  },
  {
   "cell_type": "code",
   "execution_count": 31,
   "metadata": {},
   "outputs": [],
   "source": [
    "### START CODE HERE (Activity 4.1) ###\n",
    "\n",
    "####################### Governorate No. #######################\n",
    "variables = ['1', '2', '3', '4', '5', '6', '7', '8', '9', '10', '11']\n",
    "\n",
    "####################### Governorate Name #######################\n",
    "# variables = ['Ad Dakhiliyah',\n",
    "#                 'Ad Dhahirah',\n",
    "#                 'Al Batinah North',\n",
    "#                 'Al Buraymi',\n",
    "#                 'Al Batinah South',\n",
    "#                 'Ash Sharqiyah North',\n",
    "#                 'Ash Sharqiyah South',\n",
    "#                 'Muscat',\n",
    "#                 'Al Wusta',\n",
    "#                 'Dofar',\n",
    "#                 'Musandam'\n",
    "#             ]\n",
    "\n",
    "### END CODE HERE ###"
   ]
  },
  {
   "cell_type": "markdown",
   "metadata": {},
   "source": [
    "### Activity 4.2 <a class=\"anchor\" id=\"act4-2\"></a>\n",
    "\n",
    "Define the domains dictionary, outlining feasible times and locations for each fireworks display. \n",
    "\n",
    "**Think**: Should all the domains be the same?"
   ]
  },
  {
   "cell_type": "code",
   "execution_count": 39,
   "metadata": {},
   "outputs": [],
   "source": [
    "### START CODE HERE (Activity 4.2) ###\n",
    "\n",
    "# domains dictionary\n",
    "domains = {}\n",
    "for var in variables:\n",
    "    domains[var] = [\n",
    "        ### full date ###\n",
    "        \"Su, November 19\",\n",
    "        \"Mo, November 20\",\n",
    "        \"Tu, November 21\"\n",
    "        #################\n",
    "    ]\n",
    "\n",
    "\n",
    "# 'Sa, November 18'-> Muscat Governorate will showcase its fireworks\n",
    "domains['8'] = [\"Sa, November 18\"]\n",
    "# domains['Muscat'] = [\"Sa, November 18\"]\n",
    "\n",
    "\n",
    "# 'We, November 22'-> Dhofar Governorate will present its fireworks\n",
    "domains['10'] = [\"We, November 22\"]\n",
    "# domains['Dofar'] = [\"We, November 22\"]\n",
    "\n",
    "# this is used just for finding other assignment\n",
    "# domains['2'] = [\"Su, November 19\", \"Tu, November 21\"]\n",
    "\n",
    "### END CODE HERE ###"
   ]
  },
  {
   "cell_type": "markdown",
   "metadata": {},
   "source": [
    "### Activity 4.3 <a class=\"anchor\" id=\"act4-3\"></a>\n",
    "\n",
    "Declare neighbors' dictionary to identify governorates where simultaneous fireworks displays are permissible. It is a good a idea to draw the constraints grpah first."
   ]
  },
  {
   "cell_type": "code",
   "execution_count": 33,
   "metadata": {},
   "outputs": [],
   "source": [
    "### START CODE HERE (Activity 4.3) ###\n",
    "\n",
    "# create a neighbors dict and add neighbors one by one\n",
    "\n",
    "# the variables is based on the 'Map Nr' on the Figure 1 and Table 1\n",
    "# each variable\"number\" is indicate to it's \"Governorate\"\n",
    "\n",
    "neighbors = {}\n",
    "############ Governorate No. ##############\n",
    "neighbors['1']  = ['3', '5', '8', '6', '7', '9', '2']\n",
    "neighbors['2']  = ['4', '1', '3', '9']\n",
    "neighbors['3']  = ['11', '4', '5', '2', '1']\n",
    "neighbors['4']  = ['11', '3']\n",
    "neighbors['5']  = ['1', '8', '3']\n",
    "neighbors['6']  = ['1', '7', '8']\n",
    "neighbors['7']  = ['1', '6', '9']\n",
    "neighbors['8']  = ['5', '1', '6']\n",
    "neighbors['9']  = ['2', '1', '7', '10']\n",
    "neighbors['10']  = ['9']\n",
    "neighbors['11']  = ['4', '3']\n",
    "\n",
    "############ Governorate Name ##############\n",
    "# neighbors['Ad Dakhiliyah']  = ['Al Batinah North', 'Al Batinah South', 'Muscat', 'Ash Sharqiyah North', 'Ash Sharqiyah South', 'Al Wusta', 'Ad Dhahirah']\n",
    "# neighbors['Ad Dhahirah']  = ['Al Buraymi', 'Ad Dakhiliyah', 'Al Batinah North', 'Al Wusta']\n",
    "# neighbors['Al Batinah North']  = ['Musandam', 'Al Buraymi', 'Al Batinah South', 'Ad Dhahirah', 'Ad Dakhiliyah']\n",
    "# neighbors['Al Buraymi']  = ['Musandam', 'Al Batinah North']\n",
    "# neighbors['Al Batinah South']  = ['Ad Dakhiliyah', 'Muscat', 'Al Batinah North']\n",
    "# neighbors['Ash Sharqiyah North']  = ['Ad Dakhiliyah', 'Ash Sharqiyah South', 'Muscat']\n",
    "# neighbors['Ash Sharqiyah South']  = ['Ad Dakhiliyah', 'Ash Sharqiyah North', 'Al Wusta']\n",
    "# neighbors['Muscat']  = ['Al Batinah South', 'Ad Dakhiliyah', 'Ash Sharqiyah North']\n",
    "# neighbors['Al Wusta']  = ['Ad Dhahirah', 'Ad Dakhiliyah', 'Ash Sharqiyah South', 'Dofar']\n",
    "# neighbors['Dofar']  = ['Al Wusta']\n",
    "# neighbors['Musandam']  = ['Al Buraymi', 'Al Batinah North']\n",
    "\n",
    "### END CODE HERE ###"
   ]
  },
  {
   "cell_type": "markdown",
   "metadata": {},
   "source": [
    "### Activity 4.4 <a class=\"anchor\" id=\"act4-4\"></a>\n",
    "\n",
    "Create the object for representing the CSP problem based on the given constraints and requirements."
   ]
  },
  {
   "cell_type": "code",
   "execution_count": 40,
   "metadata": {},
   "outputs": [],
   "source": [
    "### START CODE HERE (Activity 4.4) ###\n",
    "\n",
    "# create a csp problem\n",
    "csp_problem = MapColoring(variables, domains, neighbors)\n",
    "\n",
    "### END CODE HERE ###"
   ]
  },
  {
   "cell_type": "markdown",
   "metadata": {},
   "source": [
    "### Activity 4.5 <a class=\"anchor\" id=\"act4-5\"></a>\n",
    "\n",
    "Complete the following code to run the backtracking search algorithm to find an appropriate schedule."
   ]
  },
  {
   "cell_type": "code",
   "execution_count": 41,
   "metadata": {},
   "outputs": [
    {
     "name": "stdout",
     "output_type": "stream",
     "text": [
      "Running plain vanilla BTS: \n",
      "Found a solution in 0.00 seconds\n",
      "{'1': 'Su, November 19', '2': 'Mo, November 20', '3': 'Tu, November 21', '4': 'Su, November 19', '5': 'Mo, November 20', '6': 'Tu, November 21', '7': 'Mo, November 20', '8': 'Sa, November 18', '9': 'Tu, November 21', '10': 'We, November 22', '11': 'Mo, November 20'}\n"
     ]
    }
   ],
   "source": [
    "### START CODE HERE (Activity 4.5 Part A) ###\n",
    "\n",
    "# find a solution\n",
    "print(\"Running plain vanilla BTS: \")\n",
    "\n",
    "timer = Stopwatch() # start the clock\n",
    "\n",
    "try:\n",
    "    assignment = backtracking_search(csp= csp_problem)\n",
    "\n",
    "    if assignment is None:\n",
    "        print(\"No solution found to the problem\")\n",
    "    else:\n",
    "        print(f\"Found a solution in {timer.elapsedTime():.2f} seconds\")\n",
    "        print(assignment)\n",
    "\n",
    "        #######################\n",
    "        # the following code it's just to be understandable and clear\n",
    "        # i = 1\n",
    "        # for ass in assignment:\n",
    "        #     print(f\"{i}. {ass}: {assignment[ass]}\")\n",
    "        #     i+=1\n",
    "        #######################\n",
    "\n",
    "except AssertionError:\n",
    "        print(\"Only a partial solution was found\")\n",
    "\n",
    "\n",
    "### END CODE HERE ###"
   ]
  },
  {
   "cell_type": "code",
   "execution_count": null,
   "metadata": {},
   "outputs": [],
   "source": [
    "############ assignment 1 ############\n",
    "# 1. Ad Dakhiliyah      : Su, November 19\n",
    "# 2. Ad Dhahirah        : Mo, November 20\n",
    "# 3. Al Batinah North   : Tu, November 21\n",
    "# 4. Al Buraymi         : Su, November 19\n",
    "# 5. Al Batinah South   : Mo, November 20\n",
    "# 6. Ash Sharqiyah North: Tu, November 21\n",
    "# 7. Ash Sharqiyah South: Mo, November 20\n",
    "# 8. Muscat             : Sa, November 18\n",
    "# 9. Al Wusta           : Tu, November 21\n",
    "# 10. Dofar             : We, November 22\n",
    "# 11. Musandam          : Mo, November 20\n",
    "\n",
    "############ assignment 2 ############\n",
    "# 1. Ad Dakhiliyah      : Su, November 19\n",
    "# 2. Ad Dhahirah        : Tu, November 21\n",
    "# 3. Al Batinah North   : Mo, November 20\n",
    "# 4. Al Buraymi         : Su, November 19\n",
    "# 5. Al Batinah South   : Tu, November 21\n",
    "# 6. Ash Sharqiyah North: Mo, November 20\n",
    "# 7. Ash Sharqiyah South: Tu, November 21\n",
    "# 8. Muscat             : Sa, November 18\n",
    "# 9. Al Wusta           : Mo, November 20\n",
    "# 10. Dofar             : We, November 22\n",
    "# 11. Musandam          : Tu, November 21"
   ]
  },
  {
   "cell_type": "markdown",
   "metadata": {},
   "source": [
    "In the following code cell, write down the assignment resulting from running the previous code."
   ]
  },
  {
   "cell_type": "code",
   "execution_count": 29,
   "metadata": {},
   "outputs": [],
   "source": [
    "### START CODE HERE (Activity 4.5 Part B) ###\n",
    "\n",
    "assignment = {'1': 'Su, November 19', '2': 'Mo, November 20', '3': 'Tu, November 21', '4': 'Su, November 19', '5': 'Mo, November 20', '6': 'Tu, November 21', '7': 'Mo, November 20', '8': 'Sa, November 18', '9': 'Tu, November 21', '10': 'We, November 22', '11': 'Mo, November 20'}\n",
    "# assignment = {'1': 'Su, November 19', '2': 'Tu, November 21', '3': 'Mo, November 20', '4': 'Su, November 19', '5': 'Tu, November 21', '6': 'Mo, November 20', '7': 'Tu, November 21', '8': 'Sa, November 18', '9': 'Mo, November 20', '10': 'We, November 22', '11': 'Tu, November 21'}\n",
    "\n",
    "### END CODE HERE ###"
   ]
  },
  {
   "cell_type": "markdown",
   "metadata": {},
   "source": [
    "### Activity 4.6 (Optional) <a class=\"anchor\" id=\"act4-6\"></a>\n",
    "\n",
    "Modify the code below to run the backtracking search with forward checking. Incorporate either the least constraining value (LCV) or minimum remaining value (mrv) - we know it as most constrained variable (mcv). What do you observe about the time taken to find a solution this time?"
   ]
  },
  {
   "cell_type": "markdown",
   "metadata": {},
   "source": [
    "#### `backtracking search with forward checking`"
   ]
  },
  {
   "cell_type": "code",
   "execution_count": 42,
   "metadata": {},
   "outputs": [
    {
     "name": "stdout",
     "output_type": "stream",
     "text": [
      "Running plain vanilla BTS + FC: \n",
      "Found a solution in 0.00 seconds\n",
      "{'1': 'Su, November 19', '2': 'Mo, November 20', '3': 'Tu, November 21', '4': 'Su, November 19', '5': 'Mo, November 20', '6': 'Tu, November 21', '7': 'Mo, November 20', '8': 'Sa, November 18', '9': 'Tu, November 21', '10': 'We, November 22', '11': 'Mo, November 20'}\n"
     ]
    }
   ],
   "source": [
    "### START CODE HERE (Activity 4.6) ###\n",
    "\n",
    "# find a solution\n",
    "print(\"Running plain vanilla BTS + FC: \")\n",
    "\n",
    "timer = Stopwatch() # start the clock\n",
    "\n",
    "try:\n",
    "    assignment = backtracking_search(csp= csp_problem, inference= forward_checking)\n",
    "\n",
    "    if assignment is None:\n",
    "        print(\"No solution found to the problem\")\n",
    "    else:\n",
    "        print(f\"Found a solution in {timer.elapsedTime():.2f} seconds\")\n",
    "        print(assignment)\n",
    "\n",
    "except AssertionError:\n",
    "        print(\"Only a partial solution was found\")\n",
    "\n",
    "\n",
    "### END CODE HERE ###"
   ]
  },
  {
   "cell_type": "markdown",
   "metadata": {},
   "source": [
    "#### `backtracking search with forward checking and minimum remaining value (mrv)`"
   ]
  },
  {
   "cell_type": "code",
   "execution_count": 43,
   "metadata": {},
   "outputs": [
    {
     "name": "stdout",
     "output_type": "stream",
     "text": [
      "Running plain vanilla BTS + FC + MRV: \n",
      "Found a solution in 0.00 seconds\n",
      "{'2': 'Mo, November 20', '10': 'We, November 22', '3': 'Tu, November 21', '8': 'Sa, November 18', '11': 'Mo, November 20', '1': 'Su, November 19', '9': 'Tu, November 21', '5': 'Mo, November 20', '7': 'Mo, November 20', '4': 'Su, November 19', '6': 'Tu, November 21'}\n"
     ]
    }
   ],
   "source": [
    "### START CODE HERE (Activity 4.6) ###\n",
    "\n",
    "# find a solution\n",
    "print(\"Running plain vanilla BTS + FC + MRV: \")\n",
    "\n",
    "timer = Stopwatch() # start the clock\n",
    "\n",
    "try:\n",
    "    assignment = backtracking_search(csp= csp_problem,\n",
    "                                        inference= forward_checking,\n",
    "                                        select_unassigned_variable= mrv)\n",
    "\n",
    "    if assignment is None:\n",
    "        print(\"No solution found to the problem\")\n",
    "    else:\n",
    "        print(f\"Found a solution in {timer.elapsedTime():.2f} seconds\")\n",
    "        print(assignment)\n",
    "\n",
    "except AssertionError:\n",
    "        print(\"Only a partial solution was found\")\n",
    "\n",
    "\n",
    "### END CODE HERE ###"
   ]
  },
  {
   "cell_type": "markdown",
   "metadata": {},
   "source": [
    "#### `backtracking search with forward checking and least constraining value (LCV)`"
   ]
  },
  {
   "cell_type": "code",
   "execution_count": 44,
   "metadata": {},
   "outputs": [
    {
     "name": "stdout",
     "output_type": "stream",
     "text": [
      "Running plain vanilla BTS + FC + LCV: \n",
      "Found a solution in 0.00 seconds\n",
      "{'8': 'Sa, November 18', '10': 'We, November 22', '11': 'Mo, November 20', '4': 'Su, November 19', '3': 'Tu, November 21', '1': 'Su, November 19', '6': 'Tu, November 21', '7': 'Mo, November 20', '9': 'Tu, November 21', '5': 'Mo, November 20', '2': 'Mo, November 20'}\n"
     ]
    }
   ],
   "source": [
    "### START CODE HERE (Activity 4.6) ###\n",
    "\n",
    "# find a solution\n",
    "print(\"Running plain vanilla BTS + FC + LCV: \")\n",
    "\n",
    "timer = Stopwatch() # start the clock\n",
    "\n",
    "try:\n",
    "    assignment = backtracking_search(csp= csp_problem,\n",
    "                                        inference= forward_checking,\n",
    "                                        select_unassigned_variable= mrv,\n",
    "                                        order_domain_values= lcv)\n",
    "\n",
    "    if assignment is None:\n",
    "        print(\"No solution found to the problem\")\n",
    "    else:\n",
    "        print(f\"Found a solution in {timer.elapsedTime():.2f} seconds\")\n",
    "        print(assignment)\n",
    "\n",
    "except AssertionError:\n",
    "        print(\"Only a partial solution was found\")\n",
    "\n",
    "\n",
    "### END CODE HERE ###"
   ]
  },
  {
   "cell_type": "markdown",
   "metadata": {},
   "source": [
    "## Acknowledgement\n",
    "\n",
    "Preparation of this lab material would not have been possible without  the adaptation code and content from [Russell and Norvig (2021)](#ref1).  The author gratefully acknowledges the work of the authors cited while assuming complete responsibility for any mistake introduced in the adaptation."
   ]
  },
  {
   "cell_type": "markdown",
   "metadata": {},
   "source": [
    "## References\n",
    "\n",
    "* <a class=\"anchor\" id=\"ref1\"></a>Russell, S., & Norvig, P. (2021). Artificial Intelligence: a modern approach, 4th US ed.\n"
   ]
  }
 ],
 "metadata": {
  "kernelspec": {
   "display_name": "venv",
   "language": "python",
   "name": "python3"
  },
  "language_info": {
   "codemirror_mode": {
    "name": "ipython",
    "version": 3
   },
   "file_extension": ".py",
   "mimetype": "text/x-python",
   "name": "python",
   "nbconvert_exporter": "python",
   "pygments_lexer": "ipython3",
   "version": "3.11.0"
  }
 },
 "nbformat": 4,
 "nbformat_minor": 2
}
